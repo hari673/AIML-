{
  "metadata": {
    "kernelspec": {
      "language": "python",
      "display_name": "Python 3",
      "name": "python3"
    },
    "language_info": {
      "name": "python",
      "version": "3.10.12",
      "mimetype": "text/x-python",
      "codemirror_mode": {
        "name": "ipython",
        "version": 3
      },
      "pygments_lexer": "ipython3",
      "nbconvert_exporter": "python",
      "file_extension": ".py"
    },
    "colab": {
      "provenance": [],
      "include_colab_link": true
    }
  },
  "nbformat_minor": 0,
  "nbformat": 4,
  "cells": [
    {
      "cell_type": "markdown",
      "metadata": {
        "id": "view-in-github",
        "colab_type": "text"
      },
      "source": [
        "<a href=\"https://colab.research.google.com/github/hari673/spam-classifier/blob/main/multilabel_cls_and_loc_of_thorax_diseases.ipynb\" target=\"_parent\"><img src=\"https://colab.research.google.com/assets/colab-badge.svg\" alt=\"Open In Colab\"/></a>"
      ]
    },
    {
      "cell_type": "code",
      "source": [
        "import pandas as pd\n",
        "from pathlib import Path"
      ],
      "metadata": {
        "_uuid": "8f2839f25d086af736a60e9eeb907d3b93b6e0e5",
        "_cell_guid": "b1076dfc-b9ad-4769-8c92-a6c4dae69d19",
        "execution": {
          "iopub.status.busy": "2023-09-15T03:47:56.247249Z",
          "iopub.execute_input": "2023-09-15T03:47:56.247636Z",
          "iopub.status.idle": "2023-09-15T03:47:56.638489Z",
          "shell.execute_reply.started": "2023-09-15T03:47:56.247606Z",
          "shell.execute_reply": "2023-09-15T03:47:56.637363Z"
        },
        "trusted": true,
        "id": "yGY4biMd1eTo"
      },
      "execution_count": null,
      "outputs": []
    },
    {
      "cell_type": "code",
      "source": [
        "complete_data_info = pd.read_csv(\"/kaggle/input/data/Data_Entry_2017.csv\")"
      ],
      "metadata": {
        "execution": {
          "iopub.status.busy": "2023-09-15T03:47:58.439477Z",
          "iopub.execute_input": "2023-09-15T03:47:58.439945Z",
          "iopub.status.idle": "2023-09-15T03:47:58.745303Z",
          "shell.execute_reply.started": "2023-09-15T03:47:58.439914Z",
          "shell.execute_reply": "2023-09-15T03:47:58.744469Z"
        },
        "trusted": true,
        "id": "K2byKn4J1eTs"
      },
      "execution_count": null,
      "outputs": []
    },
    {
      "cell_type": "code",
      "source": [
        "complete_data_info.head()"
      ],
      "metadata": {
        "execution": {
          "iopub.status.busy": "2023-09-15T03:47:59.495489Z",
          "iopub.execute_input": "2023-09-15T03:47:59.495969Z",
          "iopub.status.idle": "2023-09-15T03:47:59.520762Z",
          "shell.execute_reply.started": "2023-09-15T03:47:59.495898Z",
          "shell.execute_reply": "2023-09-15T03:47:59.519653Z"
        },
        "trusted": true,
        "id": "f5ilgums1eTt",
        "outputId": "7da85b05-0c07-40f2-ec7b-308713190d2f"
      },
      "execution_count": null,
      "outputs": [
        {
          "execution_count": 3,
          "output_type": "execute_result",
          "data": {
            "text/plain": "        Image Index          Finding Labels  Follow-up #  Patient ID  \\\n0  00000001_000.png            Cardiomegaly            0           1   \n1  00000001_001.png  Cardiomegaly|Emphysema            1           1   \n2  00000001_002.png   Cardiomegaly|Effusion            2           1   \n3  00000002_000.png              No Finding            0           2   \n4  00000003_000.png                  Hernia            0           3   \n\n   Patient Age Patient Gender View Position  OriginalImage[Width  Height]  \\\n0           58              M            PA                 2682     2749   \n1           58              M            PA                 2894     2729   \n2           58              M            PA                 2500     2048   \n3           81              M            PA                 2500     2048   \n4           81              F            PA                 2582     2991   \n\n   OriginalImagePixelSpacing[x     y]  Unnamed: 11  \n0                        0.143  0.143          NaN  \n1                        0.143  0.143          NaN  \n2                        0.168  0.168          NaN  \n3                        0.171  0.171          NaN  \n4                        0.143  0.143          NaN  ",
            "text/html": "<div>\n<style scoped>\n    .dataframe tbody tr th:only-of-type {\n        vertical-align: middle;\n    }\n\n    .dataframe tbody tr th {\n        vertical-align: top;\n    }\n\n    .dataframe thead th {\n        text-align: right;\n    }\n</style>\n<table border=\"1\" class=\"dataframe\">\n  <thead>\n    <tr style=\"text-align: right;\">\n      <th></th>\n      <th>Image Index</th>\n      <th>Finding Labels</th>\n      <th>Follow-up #</th>\n      <th>Patient ID</th>\n      <th>Patient Age</th>\n      <th>Patient Gender</th>\n      <th>View Position</th>\n      <th>OriginalImage[Width</th>\n      <th>Height]</th>\n      <th>OriginalImagePixelSpacing[x</th>\n      <th>y]</th>\n      <th>Unnamed: 11</th>\n    </tr>\n  </thead>\n  <tbody>\n    <tr>\n      <th>0</th>\n      <td>00000001_000.png</td>\n      <td>Cardiomegaly</td>\n      <td>0</td>\n      <td>1</td>\n      <td>58</td>\n      <td>M</td>\n      <td>PA</td>\n      <td>2682</td>\n      <td>2749</td>\n      <td>0.143</td>\n      <td>0.143</td>\n      <td>NaN</td>\n    </tr>\n    <tr>\n      <th>1</th>\n      <td>00000001_001.png</td>\n      <td>Cardiomegaly|Emphysema</td>\n      <td>1</td>\n      <td>1</td>\n      <td>58</td>\n      <td>M</td>\n      <td>PA</td>\n      <td>2894</td>\n      <td>2729</td>\n      <td>0.143</td>\n      <td>0.143</td>\n      <td>NaN</td>\n    </tr>\n    <tr>\n      <th>2</th>\n      <td>00000001_002.png</td>\n      <td>Cardiomegaly|Effusion</td>\n      <td>2</td>\n      <td>1</td>\n      <td>58</td>\n      <td>M</td>\n      <td>PA</td>\n      <td>2500</td>\n      <td>2048</td>\n      <td>0.168</td>\n      <td>0.168</td>\n      <td>NaN</td>\n    </tr>\n    <tr>\n      <th>3</th>\n      <td>00000002_000.png</td>\n      <td>No Finding</td>\n      <td>0</td>\n      <td>2</td>\n      <td>81</td>\n      <td>M</td>\n      <td>PA</td>\n      <td>2500</td>\n      <td>2048</td>\n      <td>0.171</td>\n      <td>0.171</td>\n      <td>NaN</td>\n    </tr>\n    <tr>\n      <th>4</th>\n      <td>00000003_000.png</td>\n      <td>Hernia</td>\n      <td>0</td>\n      <td>3</td>\n      <td>81</td>\n      <td>F</td>\n      <td>PA</td>\n      <td>2582</td>\n      <td>2991</td>\n      <td>0.143</td>\n      <td>0.143</td>\n      <td>NaN</td>\n    </tr>\n  </tbody>\n</table>\n</div>"
          },
          "metadata": {}
        }
      ]
    },
    {
      "cell_type": "code",
      "source": [
        "data_base_path = \"/kaggle/input/data\""
      ],
      "metadata": {
        "execution": {
          "iopub.status.busy": "2023-09-15T03:48:04.022967Z",
          "iopub.execute_input": "2023-09-15T03:48:04.023340Z",
          "iopub.status.idle": "2023-09-15T03:48:04.027156Z",
          "shell.execute_reply.started": "2023-09-15T03:48:04.023313Z",
          "shell.execute_reply": "2023-09-15T03:48:04.026407Z"
        },
        "trusted": true,
        "id": "-pH0Tp7i1eTw"
      },
      "execution_count": null,
      "outputs": []
    },
    {
      "cell_type": "code",
      "source": [
        "complete_data_imgs_paths = list()\n",
        "imgs_file_names = list()\n",
        "\n",
        "for single_img_path in Path(data_base_path).glob(\"images_*/images/*.png\"):\n",
        "\n",
        "    complete_data_imgs_paths.append(str(single_img_path))\n",
        "    imgs_file_names.append(str(single_img_path.parts[-1]))"
      ],
      "metadata": {
        "execution": {
          "iopub.status.busy": "2023-09-15T03:48:10.887881Z",
          "iopub.execute_input": "2023-09-15T03:48:10.888478Z",
          "iopub.status.idle": "2023-09-15T03:48:13.632798Z",
          "shell.execute_reply.started": "2023-09-15T03:48:10.888441Z",
          "shell.execute_reply": "2023-09-15T03:48:13.631515Z"
        },
        "trusted": true,
        "id": "Q2nMS0MO1eTx"
      },
      "execution_count": null,
      "outputs": []
    },
    {
      "cell_type": "code",
      "source": [
        "complete_data_path_info = pd.DataFrame(data={\"Image Index\":imgs_file_names,\n",
        "                                            \"Image Path\":complete_data_imgs_paths})"
      ],
      "metadata": {
        "execution": {
          "iopub.status.busy": "2023-09-15T03:48:16.023928Z",
          "iopub.execute_input": "2023-09-15T03:48:16.025199Z",
          "iopub.status.idle": "2023-09-15T03:48:16.053820Z",
          "shell.execute_reply.started": "2023-09-15T03:48:16.025149Z",
          "shell.execute_reply": "2023-09-15T03:48:16.052708Z"
        },
        "trusted": true,
        "id": "gz8iaGVu1eTy"
      },
      "execution_count": null,
      "outputs": []
    },
    {
      "cell_type": "code",
      "source": [
        "complete_data_path_info.head()"
      ],
      "metadata": {
        "execution": {
          "iopub.status.busy": "2023-09-15T03:48:18.310197Z",
          "iopub.execute_input": "2023-09-15T03:48:18.310544Z",
          "iopub.status.idle": "2023-09-15T03:48:18.321330Z",
          "shell.execute_reply.started": "2023-09-15T03:48:18.310518Z",
          "shell.execute_reply": "2023-09-15T03:48:18.320144Z"
        },
        "trusted": true,
        "id": "Tx67esKv1eTy",
        "outputId": "57044a29-f47b-4458-ac64-71828ea6b77a"
      },
      "execution_count": null,
      "outputs": [
        {
          "execution_count": 7,
          "output_type": "execute_result",
          "data": {
            "text/plain": "        Image Index                                         Image Path\n0  00006199_010.png  /kaggle/input/data/images_003/images/00006199_...\n1  00004833_016.png  /kaggle/input/data/images_003/images/00004833_...\n2  00006260_000.png  /kaggle/input/data/images_003/images/00006260_...\n3  00004911_010.png  /kaggle/input/data/images_003/images/00004911_...\n4  00004186_007.png  /kaggle/input/data/images_003/images/00004186_...",
            "text/html": "<div>\n<style scoped>\n    .dataframe tbody tr th:only-of-type {\n        vertical-align: middle;\n    }\n\n    .dataframe tbody tr th {\n        vertical-align: top;\n    }\n\n    .dataframe thead th {\n        text-align: right;\n    }\n</style>\n<table border=\"1\" class=\"dataframe\">\n  <thead>\n    <tr style=\"text-align: right;\">\n      <th></th>\n      <th>Image Index</th>\n      <th>Image Path</th>\n    </tr>\n  </thead>\n  <tbody>\n    <tr>\n      <th>0</th>\n      <td>00006199_010.png</td>\n      <td>/kaggle/input/data/images_003/images/00006199_...</td>\n    </tr>\n    <tr>\n      <th>1</th>\n      <td>00004833_016.png</td>\n      <td>/kaggle/input/data/images_003/images/00004833_...</td>\n    </tr>\n    <tr>\n      <th>2</th>\n      <td>00006260_000.png</td>\n      <td>/kaggle/input/data/images_003/images/00006260_...</td>\n    </tr>\n    <tr>\n      <th>3</th>\n      <td>00004911_010.png</td>\n      <td>/kaggle/input/data/images_003/images/00004911_...</td>\n    </tr>\n    <tr>\n      <th>4</th>\n      <td>00004186_007.png</td>\n      <td>/kaggle/input/data/images_003/images/00004186_...</td>\n    </tr>\n  </tbody>\n</table>\n</div>"
          },
          "metadata": {}
        }
      ]
    },
    {
      "cell_type": "code",
      "source": [
        "complete_data_all_info = complete_data_info.merge(complete_data_path_info,on=\"Image Index\")"
      ],
      "metadata": {
        "execution": {
          "iopub.status.busy": "2023-09-15T03:48:20.335346Z",
          "iopub.execute_input": "2023-09-15T03:48:20.335724Z",
          "iopub.status.idle": "2023-09-15T03:48:20.467140Z",
          "shell.execute_reply.started": "2023-09-15T03:48:20.335692Z",
          "shell.execute_reply": "2023-09-15T03:48:20.466109Z"
        },
        "trusted": true,
        "id": "EM4Q21hF1eTz"
      },
      "execution_count": null,
      "outputs": []
    },
    {
      "cell_type": "code",
      "source": [
        "complete_data_all_info.head()"
      ],
      "metadata": {
        "execution": {
          "iopub.status.busy": "2023-09-15T03:48:22.788767Z",
          "iopub.execute_input": "2023-09-15T03:48:22.789157Z",
          "iopub.status.idle": "2023-09-15T03:48:22.803915Z",
          "shell.execute_reply.started": "2023-09-15T03:48:22.789124Z",
          "shell.execute_reply": "2023-09-15T03:48:22.803127Z"
        },
        "trusted": true,
        "id": "1066m6cj1eTz",
        "outputId": "02267002-6ffd-42d4-9e1c-7536e9490381"
      },
      "execution_count": null,
      "outputs": [
        {
          "execution_count": 9,
          "output_type": "execute_result",
          "data": {
            "text/plain": "        Image Index          Finding Labels  Follow-up #  Patient ID  \\\n0  00000001_000.png            Cardiomegaly            0           1   \n1  00000001_001.png  Cardiomegaly|Emphysema            1           1   \n2  00000001_002.png   Cardiomegaly|Effusion            2           1   \n3  00000002_000.png              No Finding            0           2   \n4  00000003_000.png                  Hernia            0           3   \n\n   Patient Age Patient Gender View Position  OriginalImage[Width  Height]  \\\n0           58              M            PA                 2682     2749   \n1           58              M            PA                 2894     2729   \n2           58              M            PA                 2500     2048   \n3           81              M            PA                 2500     2048   \n4           81              F            PA                 2582     2991   \n\n   OriginalImagePixelSpacing[x     y]  Unnamed: 11  \\\n0                        0.143  0.143          NaN   \n1                        0.143  0.143          NaN   \n2                        0.168  0.168          NaN   \n3                        0.171  0.171          NaN   \n4                        0.143  0.143          NaN   \n\n                                          Image Path  \n0  /kaggle/input/data/images_001/images/00000001_...  \n1  /kaggle/input/data/images_001/images/00000001_...  \n2  /kaggle/input/data/images_001/images/00000001_...  \n3  /kaggle/input/data/images_001/images/00000002_...  \n4  /kaggle/input/data/images_001/images/00000003_...  ",
            "text/html": "<div>\n<style scoped>\n    .dataframe tbody tr th:only-of-type {\n        vertical-align: middle;\n    }\n\n    .dataframe tbody tr th {\n        vertical-align: top;\n    }\n\n    .dataframe thead th {\n        text-align: right;\n    }\n</style>\n<table border=\"1\" class=\"dataframe\">\n  <thead>\n    <tr style=\"text-align: right;\">\n      <th></th>\n      <th>Image Index</th>\n      <th>Finding Labels</th>\n      <th>Follow-up #</th>\n      <th>Patient ID</th>\n      <th>Patient Age</th>\n      <th>Patient Gender</th>\n      <th>View Position</th>\n      <th>OriginalImage[Width</th>\n      <th>Height]</th>\n      <th>OriginalImagePixelSpacing[x</th>\n      <th>y]</th>\n      <th>Unnamed: 11</th>\n      <th>Image Path</th>\n    </tr>\n  </thead>\n  <tbody>\n    <tr>\n      <th>0</th>\n      <td>00000001_000.png</td>\n      <td>Cardiomegaly</td>\n      <td>0</td>\n      <td>1</td>\n      <td>58</td>\n      <td>M</td>\n      <td>PA</td>\n      <td>2682</td>\n      <td>2749</td>\n      <td>0.143</td>\n      <td>0.143</td>\n      <td>NaN</td>\n      <td>/kaggle/input/data/images_001/images/00000001_...</td>\n    </tr>\n    <tr>\n      <th>1</th>\n      <td>00000001_001.png</td>\n      <td>Cardiomegaly|Emphysema</td>\n      <td>1</td>\n      <td>1</td>\n      <td>58</td>\n      <td>M</td>\n      <td>PA</td>\n      <td>2894</td>\n      <td>2729</td>\n      <td>0.143</td>\n      <td>0.143</td>\n      <td>NaN</td>\n      <td>/kaggle/input/data/images_001/images/00000001_...</td>\n    </tr>\n    <tr>\n      <th>2</th>\n      <td>00000001_002.png</td>\n      <td>Cardiomegaly|Effusion</td>\n      <td>2</td>\n      <td>1</td>\n      <td>58</td>\n      <td>M</td>\n      <td>PA</td>\n      <td>2500</td>\n      <td>2048</td>\n      <td>0.168</td>\n      <td>0.168</td>\n      <td>NaN</td>\n      <td>/kaggle/input/data/images_001/images/00000001_...</td>\n    </tr>\n    <tr>\n      <th>3</th>\n      <td>00000002_000.png</td>\n      <td>No Finding</td>\n      <td>0</td>\n      <td>2</td>\n      <td>81</td>\n      <td>M</td>\n      <td>PA</td>\n      <td>2500</td>\n      <td>2048</td>\n      <td>0.171</td>\n      <td>0.171</td>\n      <td>NaN</td>\n      <td>/kaggle/input/data/images_001/images/00000002_...</td>\n    </tr>\n    <tr>\n      <th>4</th>\n      <td>00000003_000.png</td>\n      <td>Hernia</td>\n      <td>0</td>\n      <td>3</td>\n      <td>81</td>\n      <td>F</td>\n      <td>PA</td>\n      <td>2582</td>\n      <td>2991</td>\n      <td>0.143</td>\n      <td>0.143</td>\n      <td>NaN</td>\n      <td>/kaggle/input/data/images_001/images/00000003_...</td>\n    </tr>\n  </tbody>\n</table>\n</div>"
          },
          "metadata": {}
        }
      ]
    },
    {
      "cell_type": "code",
      "source": [
        "complete_data_all_info.head()"
      ],
      "metadata": {
        "execution": {
          "iopub.status.busy": "2023-09-15T03:48:25.625712Z",
          "iopub.execute_input": "2023-09-15T03:48:25.626332Z",
          "iopub.status.idle": "2023-09-15T03:48:25.643063Z",
          "shell.execute_reply.started": "2023-09-15T03:48:25.626292Z",
          "shell.execute_reply": "2023-09-15T03:48:25.642224Z"
        },
        "trusted": true,
        "id": "Ij_Pl3X71eT0",
        "outputId": "b35db2da-defa-4821-fe29-5d4ea21b3616"
      },
      "execution_count": null,
      "outputs": [
        {
          "execution_count": 10,
          "output_type": "execute_result",
          "data": {
            "text/plain": "        Image Index          Finding Labels  Follow-up #  Patient ID  \\\n0  00000001_000.png            Cardiomegaly            0           1   \n1  00000001_001.png  Cardiomegaly|Emphysema            1           1   \n2  00000001_002.png   Cardiomegaly|Effusion            2           1   \n3  00000002_000.png              No Finding            0           2   \n4  00000003_000.png                  Hernia            0           3   \n\n   Patient Age Patient Gender View Position  OriginalImage[Width  Height]  \\\n0           58              M            PA                 2682     2749   \n1           58              M            PA                 2894     2729   \n2           58              M            PA                 2500     2048   \n3           81              M            PA                 2500     2048   \n4           81              F            PA                 2582     2991   \n\n   OriginalImagePixelSpacing[x     y]  Unnamed: 11  \\\n0                        0.143  0.143          NaN   \n1                        0.143  0.143          NaN   \n2                        0.168  0.168          NaN   \n3                        0.171  0.171          NaN   \n4                        0.143  0.143          NaN   \n\n                                          Image Path  \n0  /kaggle/input/data/images_001/images/00000001_...  \n1  /kaggle/input/data/images_001/images/00000001_...  \n2  /kaggle/input/data/images_001/images/00000001_...  \n3  /kaggle/input/data/images_001/images/00000002_...  \n4  /kaggle/input/data/images_001/images/00000003_...  ",
            "text/html": "<div>\n<style scoped>\n    .dataframe tbody tr th:only-of-type {\n        vertical-align: middle;\n    }\n\n    .dataframe tbody tr th {\n        vertical-align: top;\n    }\n\n    .dataframe thead th {\n        text-align: right;\n    }\n</style>\n<table border=\"1\" class=\"dataframe\">\n  <thead>\n    <tr style=\"text-align: right;\">\n      <th></th>\n      <th>Image Index</th>\n      <th>Finding Labels</th>\n      <th>Follow-up #</th>\n      <th>Patient ID</th>\n      <th>Patient Age</th>\n      <th>Patient Gender</th>\n      <th>View Position</th>\n      <th>OriginalImage[Width</th>\n      <th>Height]</th>\n      <th>OriginalImagePixelSpacing[x</th>\n      <th>y]</th>\n      <th>Unnamed: 11</th>\n      <th>Image Path</th>\n    </tr>\n  </thead>\n  <tbody>\n    <tr>\n      <th>0</th>\n      <td>00000001_000.png</td>\n      <td>Cardiomegaly</td>\n      <td>0</td>\n      <td>1</td>\n      <td>58</td>\n      <td>M</td>\n      <td>PA</td>\n      <td>2682</td>\n      <td>2749</td>\n      <td>0.143</td>\n      <td>0.143</td>\n      <td>NaN</td>\n      <td>/kaggle/input/data/images_001/images/00000001_...</td>\n    </tr>\n    <tr>\n      <th>1</th>\n      <td>00000001_001.png</td>\n      <td>Cardiomegaly|Emphysema</td>\n      <td>1</td>\n      <td>1</td>\n      <td>58</td>\n      <td>M</td>\n      <td>PA</td>\n      <td>2894</td>\n      <td>2729</td>\n      <td>0.143</td>\n      <td>0.143</td>\n      <td>NaN</td>\n      <td>/kaggle/input/data/images_001/images/00000001_...</td>\n    </tr>\n    <tr>\n      <th>2</th>\n      <td>00000001_002.png</td>\n      <td>Cardiomegaly|Effusion</td>\n      <td>2</td>\n      <td>1</td>\n      <td>58</td>\n      <td>M</td>\n      <td>PA</td>\n      <td>2500</td>\n      <td>2048</td>\n      <td>0.168</td>\n      <td>0.168</td>\n      <td>NaN</td>\n      <td>/kaggle/input/data/images_001/images/00000001_...</td>\n    </tr>\n    <tr>\n      <th>3</th>\n      <td>00000002_000.png</td>\n      <td>No Finding</td>\n      <td>0</td>\n      <td>2</td>\n      <td>81</td>\n      <td>M</td>\n      <td>PA</td>\n      <td>2500</td>\n      <td>2048</td>\n      <td>0.171</td>\n      <td>0.171</td>\n      <td>NaN</td>\n      <td>/kaggle/input/data/images_001/images/00000002_...</td>\n    </tr>\n    <tr>\n      <th>4</th>\n      <td>00000003_000.png</td>\n      <td>Hernia</td>\n      <td>0</td>\n      <td>3</td>\n      <td>81</td>\n      <td>F</td>\n      <td>PA</td>\n      <td>2582</td>\n      <td>2991</td>\n      <td>0.143</td>\n      <td>0.143</td>\n      <td>NaN</td>\n      <td>/kaggle/input/data/images_001/images/00000003_...</td>\n    </tr>\n  </tbody>\n</table>\n</div>"
          },
          "metadata": {}
        }
      ]
    },
    {
      "cell_type": "code",
      "source": [
        "complete_data_all_info.columns"
      ],
      "metadata": {
        "execution": {
          "iopub.status.busy": "2023-09-15T03:48:28.532873Z",
          "iopub.execute_input": "2023-09-15T03:48:28.533635Z",
          "iopub.status.idle": "2023-09-15T03:48:28.541389Z",
          "shell.execute_reply.started": "2023-09-15T03:48:28.533591Z",
          "shell.execute_reply": "2023-09-15T03:48:28.540340Z"
        },
        "trusted": true,
        "id": "-u2q72AP1eT0",
        "outputId": "36d12834-d1dd-4a9f-a06d-1920ac83ba8f"
      },
      "execution_count": null,
      "outputs": [
        {
          "execution_count": 11,
          "output_type": "execute_result",
          "data": {
            "text/plain": "Index(['Image Index', 'Finding Labels', 'Follow-up #', 'Patient ID',\n       'Patient Age', 'Patient Gender', 'View Position', 'OriginalImage[Width',\n       'Height]', 'OriginalImagePixelSpacing[x', 'y]', 'Unnamed: 11',\n       'Image Path'],\n      dtype='object')"
          },
          "metadata": {}
        }
      ]
    },
    {
      "cell_type": "code",
      "source": [
        "complete_data_all_info.drop(complete_data_all_info.columns[2:6],axis=1,inplace=True)"
      ],
      "metadata": {
        "execution": {
          "iopub.status.busy": "2023-09-15T03:48:37.584547Z",
          "iopub.execute_input": "2023-09-15T03:48:37.584923Z",
          "iopub.status.idle": "2023-09-15T03:48:37.601441Z",
          "shell.execute_reply.started": "2023-09-15T03:48:37.584890Z",
          "shell.execute_reply": "2023-09-15T03:48:37.600248Z"
        },
        "trusted": true,
        "id": "Erb7vVd91eT1"
      },
      "execution_count": null,
      "outputs": []
    },
    {
      "cell_type": "code",
      "source": [
        "complete_data_all_info.head()"
      ],
      "metadata": {
        "execution": {
          "iopub.status.busy": "2023-09-15T03:48:39.736168Z",
          "iopub.execute_input": "2023-09-15T03:48:39.736506Z",
          "iopub.status.idle": "2023-09-15T03:48:39.750511Z",
          "shell.execute_reply.started": "2023-09-15T03:48:39.736479Z",
          "shell.execute_reply": "2023-09-15T03:48:39.749392Z"
        },
        "trusted": true,
        "id": "R2uAOjWF1eT1",
        "outputId": "90394c79-1b34-4bff-9133-c12e3f5398c0"
      },
      "execution_count": null,
      "outputs": [
        {
          "execution_count": 13,
          "output_type": "execute_result",
          "data": {
            "text/plain": "        Image Index          Finding Labels View Position  \\\n0  00000001_000.png            Cardiomegaly            PA   \n1  00000001_001.png  Cardiomegaly|Emphysema            PA   \n2  00000001_002.png   Cardiomegaly|Effusion            PA   \n3  00000002_000.png              No Finding            PA   \n4  00000003_000.png                  Hernia            PA   \n\n   OriginalImage[Width  Height]  OriginalImagePixelSpacing[x     y]  \\\n0                 2682     2749                        0.143  0.143   \n1                 2894     2729                        0.143  0.143   \n2                 2500     2048                        0.168  0.168   \n3                 2500     2048                        0.171  0.171   \n4                 2582     2991                        0.143  0.143   \n\n   Unnamed: 11                                         Image Path  \n0          NaN  /kaggle/input/data/images_001/images/00000001_...  \n1          NaN  /kaggle/input/data/images_001/images/00000001_...  \n2          NaN  /kaggle/input/data/images_001/images/00000001_...  \n3          NaN  /kaggle/input/data/images_001/images/00000002_...  \n4          NaN  /kaggle/input/data/images_001/images/00000003_...  ",
            "text/html": "<div>\n<style scoped>\n    .dataframe tbody tr th:only-of-type {\n        vertical-align: middle;\n    }\n\n    .dataframe tbody tr th {\n        vertical-align: top;\n    }\n\n    .dataframe thead th {\n        text-align: right;\n    }\n</style>\n<table border=\"1\" class=\"dataframe\">\n  <thead>\n    <tr style=\"text-align: right;\">\n      <th></th>\n      <th>Image Index</th>\n      <th>Finding Labels</th>\n      <th>View Position</th>\n      <th>OriginalImage[Width</th>\n      <th>Height]</th>\n      <th>OriginalImagePixelSpacing[x</th>\n      <th>y]</th>\n      <th>Unnamed: 11</th>\n      <th>Image Path</th>\n    </tr>\n  </thead>\n  <tbody>\n    <tr>\n      <th>0</th>\n      <td>00000001_000.png</td>\n      <td>Cardiomegaly</td>\n      <td>PA</td>\n      <td>2682</td>\n      <td>2749</td>\n      <td>0.143</td>\n      <td>0.143</td>\n      <td>NaN</td>\n      <td>/kaggle/input/data/images_001/images/00000001_...</td>\n    </tr>\n    <tr>\n      <th>1</th>\n      <td>00000001_001.png</td>\n      <td>Cardiomegaly|Emphysema</td>\n      <td>PA</td>\n      <td>2894</td>\n      <td>2729</td>\n      <td>0.143</td>\n      <td>0.143</td>\n      <td>NaN</td>\n      <td>/kaggle/input/data/images_001/images/00000001_...</td>\n    </tr>\n    <tr>\n      <th>2</th>\n      <td>00000001_002.png</td>\n      <td>Cardiomegaly|Effusion</td>\n      <td>PA</td>\n      <td>2500</td>\n      <td>2048</td>\n      <td>0.168</td>\n      <td>0.168</td>\n      <td>NaN</td>\n      <td>/kaggle/input/data/images_001/images/00000001_...</td>\n    </tr>\n    <tr>\n      <th>3</th>\n      <td>00000002_000.png</td>\n      <td>No Finding</td>\n      <td>PA</td>\n      <td>2500</td>\n      <td>2048</td>\n      <td>0.171</td>\n      <td>0.171</td>\n      <td>NaN</td>\n      <td>/kaggle/input/data/images_001/images/00000002_...</td>\n    </tr>\n    <tr>\n      <th>4</th>\n      <td>00000003_000.png</td>\n      <td>Hernia</td>\n      <td>PA</td>\n      <td>2582</td>\n      <td>2991</td>\n      <td>0.143</td>\n      <td>0.143</td>\n      <td>NaN</td>\n      <td>/kaggle/input/data/images_001/images/00000003_...</td>\n    </tr>\n  </tbody>\n</table>\n</div>"
          },
          "metadata": {}
        }
      ]
    },
    {
      "cell_type": "code",
      "source": [
        "complete_data_all_info.drop([\"Unnamed: 11\"],axis=1,inplace=True)"
      ],
      "metadata": {
        "execution": {
          "iopub.status.busy": "2023-09-15T03:48:42.719384Z",
          "iopub.execute_input": "2023-09-15T03:48:42.719756Z",
          "iopub.status.idle": "2023-09-15T03:48:42.739158Z",
          "shell.execute_reply.started": "2023-09-15T03:48:42.719719Z",
          "shell.execute_reply": "2023-09-15T03:48:42.738035Z"
        },
        "trusted": true,
        "id": "Is6wK26p1eT2"
      },
      "execution_count": null,
      "outputs": []
    },
    {
      "cell_type": "code",
      "source": [
        "complete_data_all_info.head()"
      ],
      "metadata": {
        "execution": {
          "iopub.status.busy": "2023-09-15T03:48:45.469343Z",
          "iopub.execute_input": "2023-09-15T03:48:45.469721Z",
          "iopub.status.idle": "2023-09-15T03:48:45.484312Z",
          "shell.execute_reply.started": "2023-09-15T03:48:45.469689Z",
          "shell.execute_reply": "2023-09-15T03:48:45.483173Z"
        },
        "trusted": true,
        "id": "lDdY3ZoL1eT2",
        "outputId": "6ef8d35f-6211-4da4-ec10-bc684329a9db"
      },
      "execution_count": null,
      "outputs": [
        {
          "execution_count": 15,
          "output_type": "execute_result",
          "data": {
            "text/plain": "        Image Index          Finding Labels View Position  \\\n0  00000001_000.png            Cardiomegaly            PA   \n1  00000001_001.png  Cardiomegaly|Emphysema            PA   \n2  00000001_002.png   Cardiomegaly|Effusion            PA   \n3  00000002_000.png              No Finding            PA   \n4  00000003_000.png                  Hernia            PA   \n\n   OriginalImage[Width  Height]  OriginalImagePixelSpacing[x     y]  \\\n0                 2682     2749                        0.143  0.143   \n1                 2894     2729                        0.143  0.143   \n2                 2500     2048                        0.168  0.168   \n3                 2500     2048                        0.171  0.171   \n4                 2582     2991                        0.143  0.143   \n\n                                          Image Path  \n0  /kaggle/input/data/images_001/images/00000001_...  \n1  /kaggle/input/data/images_001/images/00000001_...  \n2  /kaggle/input/data/images_001/images/00000001_...  \n3  /kaggle/input/data/images_001/images/00000002_...  \n4  /kaggle/input/data/images_001/images/00000003_...  ",
            "text/html": "<div>\n<style scoped>\n    .dataframe tbody tr th:only-of-type {\n        vertical-align: middle;\n    }\n\n    .dataframe tbody tr th {\n        vertical-align: top;\n    }\n\n    .dataframe thead th {\n        text-align: right;\n    }\n</style>\n<table border=\"1\" class=\"dataframe\">\n  <thead>\n    <tr style=\"text-align: right;\">\n      <th></th>\n      <th>Image Index</th>\n      <th>Finding Labels</th>\n      <th>View Position</th>\n      <th>OriginalImage[Width</th>\n      <th>Height]</th>\n      <th>OriginalImagePixelSpacing[x</th>\n      <th>y]</th>\n      <th>Image Path</th>\n    </tr>\n  </thead>\n  <tbody>\n    <tr>\n      <th>0</th>\n      <td>00000001_000.png</td>\n      <td>Cardiomegaly</td>\n      <td>PA</td>\n      <td>2682</td>\n      <td>2749</td>\n      <td>0.143</td>\n      <td>0.143</td>\n      <td>/kaggle/input/data/images_001/images/00000001_...</td>\n    </tr>\n    <tr>\n      <th>1</th>\n      <td>00000001_001.png</td>\n      <td>Cardiomegaly|Emphysema</td>\n      <td>PA</td>\n      <td>2894</td>\n      <td>2729</td>\n      <td>0.143</td>\n      <td>0.143</td>\n      <td>/kaggle/input/data/images_001/images/00000001_...</td>\n    </tr>\n    <tr>\n      <th>2</th>\n      <td>00000001_002.png</td>\n      <td>Cardiomegaly|Effusion</td>\n      <td>PA</td>\n      <td>2500</td>\n      <td>2048</td>\n      <td>0.168</td>\n      <td>0.168</td>\n      <td>/kaggle/input/data/images_001/images/00000001_...</td>\n    </tr>\n    <tr>\n      <th>3</th>\n      <td>00000002_000.png</td>\n      <td>No Finding</td>\n      <td>PA</td>\n      <td>2500</td>\n      <td>2048</td>\n      <td>0.171</td>\n      <td>0.171</td>\n      <td>/kaggle/input/data/images_001/images/00000002_...</td>\n    </tr>\n    <tr>\n      <th>4</th>\n      <td>00000003_000.png</td>\n      <td>Hernia</td>\n      <td>PA</td>\n      <td>2582</td>\n      <td>2991</td>\n      <td>0.143</td>\n      <td>0.143</td>\n      <td>/kaggle/input/data/images_001/images/00000003_...</td>\n    </tr>\n  </tbody>\n</table>\n</div>"
          },
          "metadata": {}
        }
      ]
    },
    {
      "cell_type": "code",
      "source": [
        "testing_data_info = pd.read_csv(\"/kaggle/input/data/BBox_List_2017.csv\")"
      ],
      "metadata": {
        "execution": {
          "iopub.status.busy": "2023-09-15T03:48:49.904649Z",
          "iopub.execute_input": "2023-09-15T03:48:49.905025Z",
          "iopub.status.idle": "2023-09-15T03:48:49.920193Z",
          "shell.execute_reply.started": "2023-09-15T03:48:49.904993Z",
          "shell.execute_reply": "2023-09-15T03:48:49.919148Z"
        },
        "trusted": true,
        "id": "cm_PqqJ01eT3"
      },
      "execution_count": null,
      "outputs": []
    },
    {
      "cell_type": "code",
      "source": [
        "testing_data_info.head()"
      ],
      "metadata": {
        "execution": {
          "iopub.status.busy": "2023-09-15T03:48:52.662546Z",
          "iopub.execute_input": "2023-09-15T03:48:52.663435Z",
          "iopub.status.idle": "2023-09-15T03:48:52.680464Z",
          "shell.execute_reply.started": "2023-09-15T03:48:52.663391Z",
          "shell.execute_reply": "2023-09-15T03:48:52.679545Z"
        },
        "trusted": true,
        "id": "8OpgS9jO1eT3",
        "outputId": "647f46d1-7b35-4315-ab50-ab9edecdd0d2"
      },
      "execution_count": null,
      "outputs": [
        {
          "execution_count": 17,
          "output_type": "execute_result",
          "data": {
            "text/plain": "        Image Index Finding Label     Bbox [x           y           w  \\\n0  00013118_008.png   Atelectasis  225.084746  547.019217   86.779661   \n1  00014716_007.png   Atelectasis  686.101695  131.543498  185.491525   \n2  00029817_009.png   Atelectasis  221.830508  317.053115  155.118644   \n3  00014687_001.png   Atelectasis  726.237288  494.951420  141.016949   \n4  00017877_001.png   Atelectasis  660.067797  569.780787  200.677966   \n\n           h]  Unnamed: 6  Unnamed: 7  Unnamed: 8  \n0   79.186441         NaN         NaN         NaN  \n1  313.491525         NaN         NaN         NaN  \n2  216.949153         NaN         NaN         NaN  \n3   55.322034         NaN         NaN         NaN  \n4   78.101695         NaN         NaN         NaN  ",
            "text/html": "<div>\n<style scoped>\n    .dataframe tbody tr th:only-of-type {\n        vertical-align: middle;\n    }\n\n    .dataframe tbody tr th {\n        vertical-align: top;\n    }\n\n    .dataframe thead th {\n        text-align: right;\n    }\n</style>\n<table border=\"1\" class=\"dataframe\">\n  <thead>\n    <tr style=\"text-align: right;\">\n      <th></th>\n      <th>Image Index</th>\n      <th>Finding Label</th>\n      <th>Bbox [x</th>\n      <th>y</th>\n      <th>w</th>\n      <th>h]</th>\n      <th>Unnamed: 6</th>\n      <th>Unnamed: 7</th>\n      <th>Unnamed: 8</th>\n    </tr>\n  </thead>\n  <tbody>\n    <tr>\n      <th>0</th>\n      <td>00013118_008.png</td>\n      <td>Atelectasis</td>\n      <td>225.084746</td>\n      <td>547.019217</td>\n      <td>86.779661</td>\n      <td>79.186441</td>\n      <td>NaN</td>\n      <td>NaN</td>\n      <td>NaN</td>\n    </tr>\n    <tr>\n      <th>1</th>\n      <td>00014716_007.png</td>\n      <td>Atelectasis</td>\n      <td>686.101695</td>\n      <td>131.543498</td>\n      <td>185.491525</td>\n      <td>313.491525</td>\n      <td>NaN</td>\n      <td>NaN</td>\n      <td>NaN</td>\n    </tr>\n    <tr>\n      <th>2</th>\n      <td>00029817_009.png</td>\n      <td>Atelectasis</td>\n      <td>221.830508</td>\n      <td>317.053115</td>\n      <td>155.118644</td>\n      <td>216.949153</td>\n      <td>NaN</td>\n      <td>NaN</td>\n      <td>NaN</td>\n    </tr>\n    <tr>\n      <th>3</th>\n      <td>00014687_001.png</td>\n      <td>Atelectasis</td>\n      <td>726.237288</td>\n      <td>494.951420</td>\n      <td>141.016949</td>\n      <td>55.322034</td>\n      <td>NaN</td>\n      <td>NaN</td>\n      <td>NaN</td>\n    </tr>\n    <tr>\n      <th>4</th>\n      <td>00017877_001.png</td>\n      <td>Atelectasis</td>\n      <td>660.067797</td>\n      <td>569.780787</td>\n      <td>200.677966</td>\n      <td>78.101695</td>\n      <td>NaN</td>\n      <td>NaN</td>\n      <td>NaN</td>\n    </tr>\n  </tbody>\n</table>\n</div>"
          },
          "metadata": {}
        }
      ]
    },
    {
      "cell_type": "code",
      "source": [
        "complete_data_all_info = complete_data_all_info.set_index(\"Image Index\")"
      ],
      "metadata": {
        "execution": {
          "iopub.status.busy": "2023-09-15T03:49:00.636077Z",
          "iopub.execute_input": "2023-09-15T03:49:00.636711Z",
          "iopub.status.idle": "2023-09-15T03:49:00.676202Z",
          "shell.execute_reply.started": "2023-09-15T03:49:00.636670Z",
          "shell.execute_reply": "2023-09-15T03:49:00.675364Z"
        },
        "trusted": true,
        "id": "IhiqZfcg1eT4"
      },
      "execution_count": null,
      "outputs": []
    },
    {
      "cell_type": "code",
      "source": [
        "complete_data_all_info.head()"
      ],
      "metadata": {
        "execution": {
          "iopub.status.busy": "2023-09-15T03:49:02.805008Z",
          "iopub.execute_input": "2023-09-15T03:49:02.805777Z",
          "iopub.status.idle": "2023-09-15T03:49:02.819240Z",
          "shell.execute_reply.started": "2023-09-15T03:49:02.805739Z",
          "shell.execute_reply": "2023-09-15T03:49:02.818131Z"
        },
        "trusted": true,
        "id": "oKd7Wrob1eT4",
        "outputId": "774d742b-ccc9-41ac-8336-593a518dbaf8"
      },
      "execution_count": null,
      "outputs": [
        {
          "execution_count": 19,
          "output_type": "execute_result",
          "data": {
            "text/plain": "                          Finding Labels View Position  OriginalImage[Width  \\\nImage Index                                                                   \n00000001_000.png            Cardiomegaly            PA                 2682   \n00000001_001.png  Cardiomegaly|Emphysema            PA                 2894   \n00000001_002.png   Cardiomegaly|Effusion            PA                 2500   \n00000002_000.png              No Finding            PA                 2500   \n00000003_000.png                  Hernia            PA                 2582   \n\n                  Height]  OriginalImagePixelSpacing[x     y]  \\\nImage Index                                                     \n00000001_000.png     2749                        0.143  0.143   \n00000001_001.png     2729                        0.143  0.143   \n00000001_002.png     2048                        0.168  0.168   \n00000002_000.png     2048                        0.171  0.171   \n00000003_000.png     2991                        0.143  0.143   \n\n                                                         Image Path  \nImage Index                                                          \n00000001_000.png  /kaggle/input/data/images_001/images/00000001_...  \n00000001_001.png  /kaggle/input/data/images_001/images/00000001_...  \n00000001_002.png  /kaggle/input/data/images_001/images/00000001_...  \n00000002_000.png  /kaggle/input/data/images_001/images/00000002_...  \n00000003_000.png  /kaggle/input/data/images_001/images/00000003_...  ",
            "text/html": "<div>\n<style scoped>\n    .dataframe tbody tr th:only-of-type {\n        vertical-align: middle;\n    }\n\n    .dataframe tbody tr th {\n        vertical-align: top;\n    }\n\n    .dataframe thead th {\n        text-align: right;\n    }\n</style>\n<table border=\"1\" class=\"dataframe\">\n  <thead>\n    <tr style=\"text-align: right;\">\n      <th></th>\n      <th>Finding Labels</th>\n      <th>View Position</th>\n      <th>OriginalImage[Width</th>\n      <th>Height]</th>\n      <th>OriginalImagePixelSpacing[x</th>\n      <th>y]</th>\n      <th>Image Path</th>\n    </tr>\n    <tr>\n      <th>Image Index</th>\n      <th></th>\n      <th></th>\n      <th></th>\n      <th></th>\n      <th></th>\n      <th></th>\n      <th></th>\n    </tr>\n  </thead>\n  <tbody>\n    <tr>\n      <th>00000001_000.png</th>\n      <td>Cardiomegaly</td>\n      <td>PA</td>\n      <td>2682</td>\n      <td>2749</td>\n      <td>0.143</td>\n      <td>0.143</td>\n      <td>/kaggle/input/data/images_001/images/00000001_...</td>\n    </tr>\n    <tr>\n      <th>00000001_001.png</th>\n      <td>Cardiomegaly|Emphysema</td>\n      <td>PA</td>\n      <td>2894</td>\n      <td>2729</td>\n      <td>0.143</td>\n      <td>0.143</td>\n      <td>/kaggle/input/data/images_001/images/00000001_...</td>\n    </tr>\n    <tr>\n      <th>00000001_002.png</th>\n      <td>Cardiomegaly|Effusion</td>\n      <td>PA</td>\n      <td>2500</td>\n      <td>2048</td>\n      <td>0.168</td>\n      <td>0.168</td>\n      <td>/kaggle/input/data/images_001/images/00000001_...</td>\n    </tr>\n    <tr>\n      <th>00000002_000.png</th>\n      <td>No Finding</td>\n      <td>PA</td>\n      <td>2500</td>\n      <td>2048</td>\n      <td>0.171</td>\n      <td>0.171</td>\n      <td>/kaggle/input/data/images_001/images/00000002_...</td>\n    </tr>\n    <tr>\n      <th>00000003_000.png</th>\n      <td>Hernia</td>\n      <td>PA</td>\n      <td>2582</td>\n      <td>2991</td>\n      <td>0.143</td>\n      <td>0.143</td>\n      <td>/kaggle/input/data/images_001/images/00000003_...</td>\n    </tr>\n  </tbody>\n</table>\n</div>"
          },
          "metadata": {}
        }
      ]
    },
    {
      "cell_type": "code",
      "source": [
        "complete_data_all_info.loc[[\"00000001_000.png\",\"00000001_001.png\"]]"
      ],
      "metadata": {
        "execution": {
          "iopub.status.busy": "2023-09-15T03:49:09.801578Z",
          "iopub.execute_input": "2023-09-15T03:49:09.802170Z",
          "iopub.status.idle": "2023-09-15T03:49:09.830419Z",
          "shell.execute_reply.started": "2023-09-15T03:49:09.802130Z",
          "shell.execute_reply": "2023-09-15T03:49:09.829318Z"
        },
        "trusted": true,
        "id": "j_bIFU2m1eT5",
        "outputId": "6122c6f4-522f-420e-dbca-4bcc288367dd"
      },
      "execution_count": null,
      "outputs": [
        {
          "execution_count": 20,
          "output_type": "execute_result",
          "data": {
            "text/plain": "                          Finding Labels View Position  OriginalImage[Width  \\\nImage Index                                                                   \n00000001_000.png            Cardiomegaly            PA                 2682   \n00000001_001.png  Cardiomegaly|Emphysema            PA                 2894   \n\n                  Height]  OriginalImagePixelSpacing[x     y]  \\\nImage Index                                                     \n00000001_000.png     2749                        0.143  0.143   \n00000001_001.png     2729                        0.143  0.143   \n\n                                                         Image Path  \nImage Index                                                          \n00000001_000.png  /kaggle/input/data/images_001/images/00000001_...  \n00000001_001.png  /kaggle/input/data/images_001/images/00000001_...  ",
            "text/html": "<div>\n<style scoped>\n    .dataframe tbody tr th:only-of-type {\n        vertical-align: middle;\n    }\n\n    .dataframe tbody tr th {\n        vertical-align: top;\n    }\n\n    .dataframe thead th {\n        text-align: right;\n    }\n</style>\n<table border=\"1\" class=\"dataframe\">\n  <thead>\n    <tr style=\"text-align: right;\">\n      <th></th>\n      <th>Finding Labels</th>\n      <th>View Position</th>\n      <th>OriginalImage[Width</th>\n      <th>Height]</th>\n      <th>OriginalImagePixelSpacing[x</th>\n      <th>y]</th>\n      <th>Image Path</th>\n    </tr>\n    <tr>\n      <th>Image Index</th>\n      <th></th>\n      <th></th>\n      <th></th>\n      <th></th>\n      <th></th>\n      <th></th>\n      <th></th>\n    </tr>\n  </thead>\n  <tbody>\n    <tr>\n      <th>00000001_000.png</th>\n      <td>Cardiomegaly</td>\n      <td>PA</td>\n      <td>2682</td>\n      <td>2749</td>\n      <td>0.143</td>\n      <td>0.143</td>\n      <td>/kaggle/input/data/images_001/images/00000001_...</td>\n    </tr>\n    <tr>\n      <th>00000001_001.png</th>\n      <td>Cardiomegaly|Emphysema</td>\n      <td>PA</td>\n      <td>2894</td>\n      <td>2729</td>\n      <td>0.143</td>\n      <td>0.143</td>\n      <td>/kaggle/input/data/images_001/images/00000001_...</td>\n    </tr>\n  </tbody>\n</table>\n</div>"
          },
          "metadata": {}
        }
      ]
    },
    {
      "cell_type": "code",
      "source": [
        "testing_data_path_info = complete_data_all_info.loc[testing_data_info[\"Image Index\"]]"
      ],
      "metadata": {
        "execution": {
          "iopub.status.busy": "2023-09-15T03:49:33.266757Z",
          "iopub.execute_input": "2023-09-15T03:49:33.267132Z",
          "iopub.status.idle": "2023-09-15T03:49:33.275885Z",
          "shell.execute_reply.started": "2023-09-15T03:49:33.267097Z",
          "shell.execute_reply": "2023-09-15T03:49:33.275025Z"
        },
        "trusted": true,
        "id": "bEudOvq31eT6"
      },
      "execution_count": null,
      "outputs": []
    },
    {
      "cell_type": "code",
      "source": [
        "testing_data_path_info.head()"
      ],
      "metadata": {
        "execution": {
          "iopub.status.busy": "2023-09-15T03:49:35.513107Z",
          "iopub.execute_input": "2023-09-15T03:49:35.513468Z",
          "iopub.status.idle": "2023-09-15T03:49:35.525504Z",
          "shell.execute_reply.started": "2023-09-15T03:49:35.513439Z",
          "shell.execute_reply": "2023-09-15T03:49:35.524816Z"
        },
        "trusted": true,
        "id": "pRTtkzYY1eT6",
        "outputId": "83ad3399-8adc-40f6-ec7c-a557ba86372b"
      },
      "execution_count": null,
      "outputs": [
        {
          "execution_count": 22,
          "output_type": "execute_result",
          "data": {
            "text/plain": "                                          Finding Labels View Position  \\\nImage Index                                                              \n00013118_008.png                             Atelectasis            PA   \n00014716_007.png               Atelectasis|Effusion|Mass            AP   \n00029817_009.png                             Atelectasis            AP   \n00014687_001.png  Atelectasis|Cardiomegaly|Consolidation            AP   \n00017877_001.png                             Atelectasis            AP   \n\n                  OriginalImage[Width  Height]  OriginalImagePixelSpacing[x  \\\nImage Index                                                                   \n00013118_008.png                 2992     2991                        0.143   \n00014716_007.png                 3056     2544                        0.139   \n00029817_009.png                 3056     2544                        0.139   \n00014687_001.png                 2500     2048                        0.168   \n00017877_001.png                 2500     2048                        0.168   \n\n                     y]                                         Image Path  \nImage Index                                                                 \n00013118_008.png  0.143  /kaggle/input/data/images_006/images/00013118_...  \n00014716_007.png  0.139  /kaggle/input/data/images_007/images/00014716_...  \n00029817_009.png  0.139  /kaggle/input/data/images_012/images/00029817_...  \n00014687_001.png  0.168  /kaggle/input/data/images_007/images/00014687_...  \n00017877_001.png  0.168  /kaggle/input/data/images_008/images/00017877_...  ",
            "text/html": "<div>\n<style scoped>\n    .dataframe tbody tr th:only-of-type {\n        vertical-align: middle;\n    }\n\n    .dataframe tbody tr th {\n        vertical-align: top;\n    }\n\n    .dataframe thead th {\n        text-align: right;\n    }\n</style>\n<table border=\"1\" class=\"dataframe\">\n  <thead>\n    <tr style=\"text-align: right;\">\n      <th></th>\n      <th>Finding Labels</th>\n      <th>View Position</th>\n      <th>OriginalImage[Width</th>\n      <th>Height]</th>\n      <th>OriginalImagePixelSpacing[x</th>\n      <th>y]</th>\n      <th>Image Path</th>\n    </tr>\n    <tr>\n      <th>Image Index</th>\n      <th></th>\n      <th></th>\n      <th></th>\n      <th></th>\n      <th></th>\n      <th></th>\n      <th></th>\n    </tr>\n  </thead>\n  <tbody>\n    <tr>\n      <th>00013118_008.png</th>\n      <td>Atelectasis</td>\n      <td>PA</td>\n      <td>2992</td>\n      <td>2991</td>\n      <td>0.143</td>\n      <td>0.143</td>\n      <td>/kaggle/input/data/images_006/images/00013118_...</td>\n    </tr>\n    <tr>\n      <th>00014716_007.png</th>\n      <td>Atelectasis|Effusion|Mass</td>\n      <td>AP</td>\n      <td>3056</td>\n      <td>2544</td>\n      <td>0.139</td>\n      <td>0.139</td>\n      <td>/kaggle/input/data/images_007/images/00014716_...</td>\n    </tr>\n    <tr>\n      <th>00029817_009.png</th>\n      <td>Atelectasis</td>\n      <td>AP</td>\n      <td>3056</td>\n      <td>2544</td>\n      <td>0.139</td>\n      <td>0.139</td>\n      <td>/kaggle/input/data/images_012/images/00029817_...</td>\n    </tr>\n    <tr>\n      <th>00014687_001.png</th>\n      <td>Atelectasis|Cardiomegaly|Consolidation</td>\n      <td>AP</td>\n      <td>2500</td>\n      <td>2048</td>\n      <td>0.168</td>\n      <td>0.168</td>\n      <td>/kaggle/input/data/images_007/images/00014687_...</td>\n    </tr>\n    <tr>\n      <th>00017877_001.png</th>\n      <td>Atelectasis</td>\n      <td>AP</td>\n      <td>2500</td>\n      <td>2048</td>\n      <td>0.168</td>\n      <td>0.168</td>\n      <td>/kaggle/input/data/images_008/images/00017877_...</td>\n    </tr>\n  </tbody>\n</table>\n</div>"
          },
          "metadata": {}
        }
      ]
    },
    {
      "cell_type": "code",
      "source": [
        "testing_data_path_info.shape"
      ],
      "metadata": {
        "execution": {
          "iopub.status.busy": "2023-09-15T03:49:53.876655Z",
          "iopub.execute_input": "2023-09-15T03:49:53.877071Z",
          "iopub.status.idle": "2023-09-15T03:49:53.883121Z",
          "shell.execute_reply.started": "2023-09-15T03:49:53.877019Z",
          "shell.execute_reply": "2023-09-15T03:49:53.882317Z"
        },
        "trusted": true,
        "id": "UPq-u4Zi1eT7",
        "outputId": "d8e2bc3b-d39a-4b5d-d5d4-acaf43e61f8a"
      },
      "execution_count": null,
      "outputs": [
        {
          "execution_count": 23,
          "output_type": "execute_result",
          "data": {
            "text/plain": "(984, 7)"
          },
          "metadata": {}
        }
      ]
    },
    {
      "cell_type": "code",
      "source": [
        "testing_data_path_info.index"
      ],
      "metadata": {
        "execution": {
          "iopub.status.busy": "2023-09-15T03:49:59.152081Z",
          "iopub.execute_input": "2023-09-15T03:49:59.152492Z",
          "iopub.status.idle": "2023-09-15T03:49:59.159424Z",
          "shell.execute_reply.started": "2023-09-15T03:49:59.152459Z",
          "shell.execute_reply": "2023-09-15T03:49:59.158399Z"
        },
        "trusted": true,
        "id": "RBAu_Wup1eT7",
        "outputId": "882c1cb8-d519-4eea-efee-6f6411be6a82"
      },
      "execution_count": null,
      "outputs": [
        {
          "execution_count": 24,
          "output_type": "execute_result",
          "data": {
            "text/plain": "Index(['00013118_008.png', '00014716_007.png', '00029817_009.png',\n       '00014687_001.png', '00017877_001.png', '00003148_004.png',\n       '00012515_002.png', '00022098_006.png', '00014198_000.png',\n       '00021007_000.png',\n       ...\n       '00029464_003.png', '00010815_006.png', '00001320_003.png',\n       '00020482_032.png', '00013187_002.png', '00029464_015.png',\n       '00025769_001.png', '00016837_002.png', '00020124_003.png',\n       '00026920_000.png'],\n      dtype='object', name='Image Index', length=984)"
          },
          "metadata": {}
        }
      ]
    },
    {
      "cell_type": "code",
      "source": [
        "complete_data_all_info.drop(index=testing_data_path_info.index,inplace=True)"
      ],
      "metadata": {
        "execution": {
          "iopub.status.busy": "2023-09-15T03:53:17.743158Z",
          "iopub.execute_input": "2023-09-15T03:53:17.743539Z",
          "iopub.status.idle": "2023-09-15T03:53:17.779027Z",
          "shell.execute_reply.started": "2023-09-15T03:53:17.743507Z",
          "shell.execute_reply": "2023-09-15T03:53:17.777909Z"
        },
        "trusted": true,
        "id": "y9HZfk5w1eT8"
      },
      "execution_count": null,
      "outputs": []
    },
    {
      "cell_type": "code",
      "source": [
        "complete_data_all_info.shape"
      ],
      "metadata": {
        "execution": {
          "iopub.status.busy": "2023-09-15T03:53:31.285427Z",
          "iopub.execute_input": "2023-09-15T03:53:31.285816Z",
          "iopub.status.idle": "2023-09-15T03:53:31.292642Z",
          "shell.execute_reply.started": "2023-09-15T03:53:31.285786Z",
          "shell.execute_reply": "2023-09-15T03:53:31.291559Z"
        },
        "trusted": true,
        "id": "PZ_wD6Us1eT8",
        "outputId": "1637af0f-f653-4c23-9bef-cff68a1ae5ad"
      },
      "execution_count": null,
      "outputs": [
        {
          "execution_count": 27,
          "output_type": "execute_result",
          "data": {
            "text/plain": "(111240, 7)"
          },
          "metadata": {}
        }
      ]
    },
    {
      "cell_type": "code",
      "source": [
        "testing_data_path_info.reset_index(inplace=True)"
      ],
      "metadata": {
        "execution": {
          "iopub.status.busy": "2023-09-15T04:09:15.767116Z",
          "iopub.execute_input": "2023-09-15T04:09:15.767523Z",
          "iopub.status.idle": "2023-09-15T04:09:15.773440Z",
          "shell.execute_reply.started": "2023-09-15T04:09:15.767492Z",
          "shell.execute_reply": "2023-09-15T04:09:15.772279Z"
        },
        "trusted": true,
        "id": "rBlgG8i81eT8"
      },
      "execution_count": null,
      "outputs": []
    },
    {
      "cell_type": "code",
      "source": [
        "testing_data_path_info.head()"
      ],
      "metadata": {
        "execution": {
          "iopub.status.busy": "2023-09-15T04:09:17.293203Z",
          "iopub.execute_input": "2023-09-15T04:09:17.293570Z",
          "iopub.status.idle": "2023-09-15T04:09:17.307491Z",
          "shell.execute_reply.started": "2023-09-15T04:09:17.293542Z",
          "shell.execute_reply": "2023-09-15T04:09:17.306346Z"
        },
        "trusted": true,
        "id": "8K6QoWoW1eT9",
        "outputId": "b4887e2c-86cb-4cfa-e8fb-815317d85b1f"
      },
      "execution_count": null,
      "outputs": [
        {
          "execution_count": 29,
          "output_type": "execute_result",
          "data": {
            "text/plain": "        Image Index                          Finding Labels View Position  \\\n0  00013118_008.png                             Atelectasis            PA   \n1  00014716_007.png               Atelectasis|Effusion|Mass            AP   \n2  00029817_009.png                             Atelectasis            AP   \n3  00014687_001.png  Atelectasis|Cardiomegaly|Consolidation            AP   \n4  00017877_001.png                             Atelectasis            AP   \n\n   OriginalImage[Width  Height]  OriginalImagePixelSpacing[x     y]  \\\n0                 2992     2991                        0.143  0.143   \n1                 3056     2544                        0.139  0.139   \n2                 3056     2544                        0.139  0.139   \n3                 2500     2048                        0.168  0.168   \n4                 2500     2048                        0.168  0.168   \n\n                                          Image Path  \n0  /kaggle/input/data/images_006/images/00013118_...  \n1  /kaggle/input/data/images_007/images/00014716_...  \n2  /kaggle/input/data/images_012/images/00029817_...  \n3  /kaggle/input/data/images_007/images/00014687_...  \n4  /kaggle/input/data/images_008/images/00017877_...  ",
            "text/html": "<div>\n<style scoped>\n    .dataframe tbody tr th:only-of-type {\n        vertical-align: middle;\n    }\n\n    .dataframe tbody tr th {\n        vertical-align: top;\n    }\n\n    .dataframe thead th {\n        text-align: right;\n    }\n</style>\n<table border=\"1\" class=\"dataframe\">\n  <thead>\n    <tr style=\"text-align: right;\">\n      <th></th>\n      <th>Image Index</th>\n      <th>Finding Labels</th>\n      <th>View Position</th>\n      <th>OriginalImage[Width</th>\n      <th>Height]</th>\n      <th>OriginalImagePixelSpacing[x</th>\n      <th>y]</th>\n      <th>Image Path</th>\n    </tr>\n  </thead>\n  <tbody>\n    <tr>\n      <th>0</th>\n      <td>00013118_008.png</td>\n      <td>Atelectasis</td>\n      <td>PA</td>\n      <td>2992</td>\n      <td>2991</td>\n      <td>0.143</td>\n      <td>0.143</td>\n      <td>/kaggle/input/data/images_006/images/00013118_...</td>\n    </tr>\n    <tr>\n      <th>1</th>\n      <td>00014716_007.png</td>\n      <td>Atelectasis|Effusion|Mass</td>\n      <td>AP</td>\n      <td>3056</td>\n      <td>2544</td>\n      <td>0.139</td>\n      <td>0.139</td>\n      <td>/kaggle/input/data/images_007/images/00014716_...</td>\n    </tr>\n    <tr>\n      <th>2</th>\n      <td>00029817_009.png</td>\n      <td>Atelectasis</td>\n      <td>AP</td>\n      <td>3056</td>\n      <td>2544</td>\n      <td>0.139</td>\n      <td>0.139</td>\n      <td>/kaggle/input/data/images_012/images/00029817_...</td>\n    </tr>\n    <tr>\n      <th>3</th>\n      <td>00014687_001.png</td>\n      <td>Atelectasis|Cardiomegaly|Consolidation</td>\n      <td>AP</td>\n      <td>2500</td>\n      <td>2048</td>\n      <td>0.168</td>\n      <td>0.168</td>\n      <td>/kaggle/input/data/images_007/images/00014687_...</td>\n    </tr>\n    <tr>\n      <th>4</th>\n      <td>00017877_001.png</td>\n      <td>Atelectasis</td>\n      <td>AP</td>\n      <td>2500</td>\n      <td>2048</td>\n      <td>0.168</td>\n      <td>0.168</td>\n      <td>/kaggle/input/data/images_008/images/00017877_...</td>\n    </tr>\n  </tbody>\n</table>\n</div>"
          },
          "metadata": {}
        }
      ]
    },
    {
      "cell_type": "code",
      "source": [
        "testing_data_path_info.shape"
      ],
      "metadata": {
        "execution": {
          "iopub.status.busy": "2023-09-15T04:09:32.979725Z",
          "iopub.execute_input": "2023-09-15T04:09:32.980261Z",
          "iopub.status.idle": "2023-09-15T04:09:32.987201Z",
          "shell.execute_reply.started": "2023-09-15T04:09:32.980227Z",
          "shell.execute_reply": "2023-09-15T04:09:32.985932Z"
        },
        "trusted": true,
        "id": "FvCWXL971eT9",
        "outputId": "5a176402-48b5-4f57-ebb0-bc9d79184a86"
      },
      "execution_count": null,
      "outputs": [
        {
          "execution_count": 30,
          "output_type": "execute_result",
          "data": {
            "text/plain": "(984, 8)"
          },
          "metadata": {}
        }
      ]
    },
    {
      "cell_type": "code",
      "source": [
        "testing_data_info.shape"
      ],
      "metadata": {
        "execution": {
          "iopub.status.busy": "2023-09-15T04:10:02.829361Z",
          "iopub.execute_input": "2023-09-15T04:10:02.829747Z",
          "iopub.status.idle": "2023-09-15T04:10:02.836512Z",
          "shell.execute_reply.started": "2023-09-15T04:10:02.829712Z",
          "shell.execute_reply": "2023-09-15T04:10:02.835646Z"
        },
        "trusted": true,
        "id": "uyFbGKhf1eT-",
        "outputId": "b1a6b741-da22-49a4-d892-aca8a430ddc2"
      },
      "execution_count": null,
      "outputs": [
        {
          "execution_count": 31,
          "output_type": "execute_result",
          "data": {
            "text/plain": "(984, 9)"
          },
          "metadata": {}
        }
      ]
    },
    {
      "cell_type": "code",
      "source": [
        "testing_data_all_info = testing_data_info.merge(testing_data_path_info,\n",
        "                                               on=\"Image Index\")"
      ],
      "metadata": {
        "execution": {
          "iopub.status.busy": "2023-09-15T04:10:07.970085Z",
          "iopub.execute_input": "2023-09-15T04:10:07.970453Z",
          "iopub.status.idle": "2023-09-15T04:10:07.980856Z",
          "shell.execute_reply.started": "2023-09-15T04:10:07.970422Z",
          "shell.execute_reply": "2023-09-15T04:10:07.979934Z"
        },
        "trusted": true,
        "id": "kMvQlTJ31eT-"
      },
      "execution_count": null,
      "outputs": []
    },
    {
      "cell_type": "code",
      "source": [
        "testing_data_all_info.head()"
      ],
      "metadata": {
        "execution": {
          "iopub.status.busy": "2023-09-15T04:10:17.193868Z",
          "iopub.execute_input": "2023-09-15T04:10:17.194696Z",
          "iopub.status.idle": "2023-09-15T04:10:17.213862Z",
          "shell.execute_reply.started": "2023-09-15T04:10:17.194654Z",
          "shell.execute_reply": "2023-09-15T04:10:17.213108Z"
        },
        "trusted": true,
        "id": "joOEggDt1eT_",
        "outputId": "c2412ee5-ff71-4d73-b20c-8ab56accd526"
      },
      "execution_count": null,
      "outputs": [
        {
          "execution_count": 33,
          "output_type": "execute_result",
          "data": {
            "text/plain": "        Image Index Finding Label     Bbox [x           y           w  \\\n0  00013118_008.png   Atelectasis  225.084746  547.019217   86.779661   \n1  00014716_007.png   Atelectasis  686.101695  131.543498  185.491525   \n2  00029817_009.png   Atelectasis  221.830508  317.053115  155.118644   \n3  00014687_001.png   Atelectasis  726.237288  494.951420  141.016949   \n4  00017877_001.png   Atelectasis  660.067797  569.780787  200.677966   \n\n           h]  Unnamed: 6  Unnamed: 7  Unnamed: 8  \\\n0   79.186441         NaN         NaN         NaN   \n1  313.491525         NaN         NaN         NaN   \n2  216.949153         NaN         NaN         NaN   \n3   55.322034         NaN         NaN         NaN   \n4   78.101695         NaN         NaN         NaN   \n\n                           Finding Labels View Position  OriginalImage[Width  \\\n0                             Atelectasis            PA                 2992   \n1               Atelectasis|Effusion|Mass            AP                 3056   \n2                             Atelectasis            AP                 3056   \n3  Atelectasis|Cardiomegaly|Consolidation            AP                 2500   \n4                             Atelectasis            AP                 2500   \n\n   Height]  OriginalImagePixelSpacing[x     y]  \\\n0     2991                        0.143  0.143   \n1     2544                        0.139  0.139   \n2     2544                        0.139  0.139   \n3     2048                        0.168  0.168   \n4     2048                        0.168  0.168   \n\n                                          Image Path  \n0  /kaggle/input/data/images_006/images/00013118_...  \n1  /kaggle/input/data/images_007/images/00014716_...  \n2  /kaggle/input/data/images_012/images/00029817_...  \n3  /kaggle/input/data/images_007/images/00014687_...  \n4  /kaggle/input/data/images_008/images/00017877_...  ",
            "text/html": "<div>\n<style scoped>\n    .dataframe tbody tr th:only-of-type {\n        vertical-align: middle;\n    }\n\n    .dataframe tbody tr th {\n        vertical-align: top;\n    }\n\n    .dataframe thead th {\n        text-align: right;\n    }\n</style>\n<table border=\"1\" class=\"dataframe\">\n  <thead>\n    <tr style=\"text-align: right;\">\n      <th></th>\n      <th>Image Index</th>\n      <th>Finding Label</th>\n      <th>Bbox [x</th>\n      <th>y</th>\n      <th>w</th>\n      <th>h]</th>\n      <th>Unnamed: 6</th>\n      <th>Unnamed: 7</th>\n      <th>Unnamed: 8</th>\n      <th>Finding Labels</th>\n      <th>View Position</th>\n      <th>OriginalImage[Width</th>\n      <th>Height]</th>\n      <th>OriginalImagePixelSpacing[x</th>\n      <th>y]</th>\n      <th>Image Path</th>\n    </tr>\n  </thead>\n  <tbody>\n    <tr>\n      <th>0</th>\n      <td>00013118_008.png</td>\n      <td>Atelectasis</td>\n      <td>225.084746</td>\n      <td>547.019217</td>\n      <td>86.779661</td>\n      <td>79.186441</td>\n      <td>NaN</td>\n      <td>NaN</td>\n      <td>NaN</td>\n      <td>Atelectasis</td>\n      <td>PA</td>\n      <td>2992</td>\n      <td>2991</td>\n      <td>0.143</td>\n      <td>0.143</td>\n      <td>/kaggle/input/data/images_006/images/00013118_...</td>\n    </tr>\n    <tr>\n      <th>1</th>\n      <td>00014716_007.png</td>\n      <td>Atelectasis</td>\n      <td>686.101695</td>\n      <td>131.543498</td>\n      <td>185.491525</td>\n      <td>313.491525</td>\n      <td>NaN</td>\n      <td>NaN</td>\n      <td>NaN</td>\n      <td>Atelectasis|Effusion|Mass</td>\n      <td>AP</td>\n      <td>3056</td>\n      <td>2544</td>\n      <td>0.139</td>\n      <td>0.139</td>\n      <td>/kaggle/input/data/images_007/images/00014716_...</td>\n    </tr>\n    <tr>\n      <th>2</th>\n      <td>00029817_009.png</td>\n      <td>Atelectasis</td>\n      <td>221.830508</td>\n      <td>317.053115</td>\n      <td>155.118644</td>\n      <td>216.949153</td>\n      <td>NaN</td>\n      <td>NaN</td>\n      <td>NaN</td>\n      <td>Atelectasis</td>\n      <td>AP</td>\n      <td>3056</td>\n      <td>2544</td>\n      <td>0.139</td>\n      <td>0.139</td>\n      <td>/kaggle/input/data/images_012/images/00029817_...</td>\n    </tr>\n    <tr>\n      <th>3</th>\n      <td>00014687_001.png</td>\n      <td>Atelectasis</td>\n      <td>726.237288</td>\n      <td>494.951420</td>\n      <td>141.016949</td>\n      <td>55.322034</td>\n      <td>NaN</td>\n      <td>NaN</td>\n      <td>NaN</td>\n      <td>Atelectasis|Cardiomegaly|Consolidation</td>\n      <td>AP</td>\n      <td>2500</td>\n      <td>2048</td>\n      <td>0.168</td>\n      <td>0.168</td>\n      <td>/kaggle/input/data/images_007/images/00014687_...</td>\n    </tr>\n    <tr>\n      <th>4</th>\n      <td>00017877_001.png</td>\n      <td>Atelectasis</td>\n      <td>660.067797</td>\n      <td>569.780787</td>\n      <td>200.677966</td>\n      <td>78.101695</td>\n      <td>NaN</td>\n      <td>NaN</td>\n      <td>NaN</td>\n      <td>Atelectasis</td>\n      <td>AP</td>\n      <td>2500</td>\n      <td>2048</td>\n      <td>0.168</td>\n      <td>0.168</td>\n      <td>/kaggle/input/data/images_008/images/00017877_...</td>\n    </tr>\n  </tbody>\n</table>\n</div>"
          },
          "metadata": {}
        }
      ]
    },
    {
      "cell_type": "code",
      "source": [
        "testing_data_all_info.columns"
      ],
      "metadata": {
        "execution": {
          "iopub.status.busy": "2023-09-15T04:10:19.294651Z",
          "iopub.execute_input": "2023-09-15T04:10:19.295652Z",
          "iopub.status.idle": "2023-09-15T04:10:19.302524Z",
          "shell.execute_reply.started": "2023-09-15T04:10:19.295611Z",
          "shell.execute_reply": "2023-09-15T04:10:19.301455Z"
        },
        "trusted": true,
        "id": "Zyaz4vJp1eT_",
        "outputId": "57f327c2-28db-4077-a618-194287507da6"
      },
      "execution_count": null,
      "outputs": [
        {
          "execution_count": 34,
          "output_type": "execute_result",
          "data": {
            "text/plain": "Index(['Image Index', 'Finding Label', 'Bbox [x', 'y', 'w', 'h]', 'Unnamed: 6',\n       'Unnamed: 7', 'Unnamed: 8', 'Finding Labels', 'View Position',\n       'OriginalImage[Width', 'Height]', 'OriginalImagePixelSpacing[x', 'y]',\n       'Image Path'],\n      dtype='object')"
          },
          "metadata": {}
        }
      ]
    },
    {
      "cell_type": "code",
      "source": [
        "testing_data_all_info.drop(labels=testing_data_all_info.columns[6:9],axis=1,\n",
        "                          inplace=True)"
      ],
      "metadata": {
        "execution": {
          "iopub.status.busy": "2023-09-15T04:10:20.917081Z",
          "iopub.execute_input": "2023-09-15T04:10:20.917744Z",
          "iopub.status.idle": "2023-09-15T04:10:20.925340Z",
          "shell.execute_reply.started": "2023-09-15T04:10:20.917701Z",
          "shell.execute_reply": "2023-09-15T04:10:20.924104Z"
        },
        "trusted": true,
        "id": "SoSYqt2N1eUA"
      },
      "execution_count": null,
      "outputs": []
    },
    {
      "cell_type": "code",
      "source": [
        "testing_data_all_info.drop(labels=[\"Finding Label\"],axis=1,inplace=True)"
      ],
      "metadata": {
        "execution": {
          "iopub.status.busy": "2023-09-15T04:10:22.975457Z",
          "iopub.execute_input": "2023-09-15T04:10:22.975827Z",
          "iopub.status.idle": "2023-09-15T04:10:22.982811Z",
          "shell.execute_reply.started": "2023-09-15T04:10:22.975794Z",
          "shell.execute_reply": "2023-09-15T04:10:22.981577Z"
        },
        "trusted": true,
        "id": "Z6u6KQlN1eUA"
      },
      "execution_count": null,
      "outputs": []
    },
    {
      "cell_type": "code",
      "source": [
        "testing_data_all_info.head()"
      ],
      "metadata": {
        "execution": {
          "iopub.status.busy": "2023-09-15T04:10:32.202912Z",
          "iopub.execute_input": "2023-09-15T04:10:32.203310Z",
          "iopub.status.idle": "2023-09-15T04:10:32.221389Z",
          "shell.execute_reply.started": "2023-09-15T04:10:32.203276Z",
          "shell.execute_reply": "2023-09-15T04:10:32.220105Z"
        },
        "trusted": true,
        "id": "1ilA__x01eUA",
        "outputId": "fe45d834-6ba8-46d1-ab96-48e6b4c2a115"
      },
      "execution_count": null,
      "outputs": [
        {
          "execution_count": 37,
          "output_type": "execute_result",
          "data": {
            "text/plain": "        Image Index     Bbox [x           y           w          h]  \\\n0  00013118_008.png  225.084746  547.019217   86.779661   79.186441   \n1  00014716_007.png  686.101695  131.543498  185.491525  313.491525   \n2  00029817_009.png  221.830508  317.053115  155.118644  216.949153   \n3  00014687_001.png  726.237288  494.951420  141.016949   55.322034   \n4  00017877_001.png  660.067797  569.780787  200.677966   78.101695   \n\n                           Finding Labels View Position  OriginalImage[Width  \\\n0                             Atelectasis            PA                 2992   \n1               Atelectasis|Effusion|Mass            AP                 3056   \n2                             Atelectasis            AP                 3056   \n3  Atelectasis|Cardiomegaly|Consolidation            AP                 2500   \n4                             Atelectasis            AP                 2500   \n\n   Height]  OriginalImagePixelSpacing[x     y]  \\\n0     2991                        0.143  0.143   \n1     2544                        0.139  0.139   \n2     2544                        0.139  0.139   \n3     2048                        0.168  0.168   \n4     2048                        0.168  0.168   \n\n                                          Image Path  \n0  /kaggle/input/data/images_006/images/00013118_...  \n1  /kaggle/input/data/images_007/images/00014716_...  \n2  /kaggle/input/data/images_012/images/00029817_...  \n3  /kaggle/input/data/images_007/images/00014687_...  \n4  /kaggle/input/data/images_008/images/00017877_...  ",
            "text/html": "<div>\n<style scoped>\n    .dataframe tbody tr th:only-of-type {\n        vertical-align: middle;\n    }\n\n    .dataframe tbody tr th {\n        vertical-align: top;\n    }\n\n    .dataframe thead th {\n        text-align: right;\n    }\n</style>\n<table border=\"1\" class=\"dataframe\">\n  <thead>\n    <tr style=\"text-align: right;\">\n      <th></th>\n      <th>Image Index</th>\n      <th>Bbox [x</th>\n      <th>y</th>\n      <th>w</th>\n      <th>h]</th>\n      <th>Finding Labels</th>\n      <th>View Position</th>\n      <th>OriginalImage[Width</th>\n      <th>Height]</th>\n      <th>OriginalImagePixelSpacing[x</th>\n      <th>y]</th>\n      <th>Image Path</th>\n    </tr>\n  </thead>\n  <tbody>\n    <tr>\n      <th>0</th>\n      <td>00013118_008.png</td>\n      <td>225.084746</td>\n      <td>547.019217</td>\n      <td>86.779661</td>\n      <td>79.186441</td>\n      <td>Atelectasis</td>\n      <td>PA</td>\n      <td>2992</td>\n      <td>2991</td>\n      <td>0.143</td>\n      <td>0.143</td>\n      <td>/kaggle/input/data/images_006/images/00013118_...</td>\n    </tr>\n    <tr>\n      <th>1</th>\n      <td>00014716_007.png</td>\n      <td>686.101695</td>\n      <td>131.543498</td>\n      <td>185.491525</td>\n      <td>313.491525</td>\n      <td>Atelectasis|Effusion|Mass</td>\n      <td>AP</td>\n      <td>3056</td>\n      <td>2544</td>\n      <td>0.139</td>\n      <td>0.139</td>\n      <td>/kaggle/input/data/images_007/images/00014716_...</td>\n    </tr>\n    <tr>\n      <th>2</th>\n      <td>00029817_009.png</td>\n      <td>221.830508</td>\n      <td>317.053115</td>\n      <td>155.118644</td>\n      <td>216.949153</td>\n      <td>Atelectasis</td>\n      <td>AP</td>\n      <td>3056</td>\n      <td>2544</td>\n      <td>0.139</td>\n      <td>0.139</td>\n      <td>/kaggle/input/data/images_012/images/00029817_...</td>\n    </tr>\n    <tr>\n      <th>3</th>\n      <td>00014687_001.png</td>\n      <td>726.237288</td>\n      <td>494.951420</td>\n      <td>141.016949</td>\n      <td>55.322034</td>\n      <td>Atelectasis|Cardiomegaly|Consolidation</td>\n      <td>AP</td>\n      <td>2500</td>\n      <td>2048</td>\n      <td>0.168</td>\n      <td>0.168</td>\n      <td>/kaggle/input/data/images_007/images/00014687_...</td>\n    </tr>\n    <tr>\n      <th>4</th>\n      <td>00017877_001.png</td>\n      <td>660.067797</td>\n      <td>569.780787</td>\n      <td>200.677966</td>\n      <td>78.101695</td>\n      <td>Atelectasis</td>\n      <td>AP</td>\n      <td>2500</td>\n      <td>2048</td>\n      <td>0.168</td>\n      <td>0.168</td>\n      <td>/kaggle/input/data/images_008/images/00017877_...</td>\n    </tr>\n  </tbody>\n</table>\n</div>"
          },
          "metadata": {}
        }
      ]
    },
    {
      "cell_type": "code",
      "source": [
        "complete_data_all_info[\"Finding Labels\"].map(lambda x: x.split(\"|\"))"
      ],
      "metadata": {
        "execution": {
          "iopub.status.busy": "2023-09-15T04:33:36.448971Z",
          "iopub.execute_input": "2023-09-15T04:33:36.449848Z",
          "iopub.status.idle": "2023-09-15T04:33:36.847943Z",
          "shell.execute_reply.started": "2023-09-15T04:33:36.449812Z",
          "shell.execute_reply": "2023-09-15T04:33:36.846687Z"
        },
        "trusted": true,
        "id": "PWxCNblV1eUB",
        "outputId": "ef0d86d7-81eb-4a0f-c902-3186d9774323"
      },
      "execution_count": null,
      "outputs": [
        {
          "execution_count": 38,
          "output_type": "execute_result",
          "data": {
            "text/plain": "Image Index\n00000001_000.png               [Cardiomegaly]\n00000001_001.png    [Cardiomegaly, Emphysema]\n00000001_002.png     [Cardiomegaly, Effusion]\n00000002_000.png                 [No Finding]\n00000003_000.png                     [Hernia]\n                              ...            \n00030801_001.png            [Mass, Pneumonia]\n00030802_000.png                 [No Finding]\n00030803_000.png                 [No Finding]\n00030804_000.png                 [No Finding]\n00030805_000.png                 [No Finding]\nName: Finding Labels, Length: 111240, dtype: object"
          },
          "metadata": {}
        }
      ]
    },
    {
      "cell_type": "code",
      "source": [],
      "metadata": {
        "id": "7cgwOvXj1eUB"
      },
      "execution_count": null,
      "outputs": []
    }
  ]
}